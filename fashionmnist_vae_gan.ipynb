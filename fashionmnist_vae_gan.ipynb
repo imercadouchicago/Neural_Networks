{
 "cells": [
  {
   "cell_type": "markdown",
   "id": "yMVpeg_oM4DM",
   "metadata": {
    "id": "yMVpeg_oM4DM"
   },
   "source": [
    "### Generating Images with VAEs and GANs\n",
    "Implemented two models, a Variational Auto Encoder (VAE) and a Generative Adversarial Network (GAN), each for the task of image generation. Trained these models on Fashion-MNIST, a dataset containing grayscale images of shoes, clothes, hats, etc."
   ]
  },
  {
   "cell_type": "markdown",
   "id": "YZsMK9JgRIqh",
   "metadata": {
    "id": "YZsMK9JgRIqh"
   },
   "source": [
    "### Variational Auto-Encoder (VAE)"
   ]
  },
  {
   "cell_type": "code",
   "execution_count": 1,
   "id": "7f9385ef-2ca2-4ce5-b3ac-fbe408f41228",
   "metadata": {
    "id": "7f9385ef-2ca2-4ce5-b3ac-fbe408f41228"
   },
   "outputs": [],
   "source": [
    "\"\"\"\n",
    "Import PyTorch libraries.\n",
    "\"\"\"\n",
    "import torch\n",
    "import torch.nn as nn\n",
    "import torch.nn.functional as F\n",
    "import torchvision\n",
    "from torchvision import datasets, transforms\n",
    "from torchvision.utils import save_image\n",
    "import matplotlib.pyplot as plt\n",
    "import numpy as np\n",
    "import random"
   ]
  },
  {
   "cell_type": "code",
   "execution_count": 2,
   "id": "d2b0e966-68da-400e-b1a9-46fa321cf074",
   "metadata": {
    "id": "d2b0e966-68da-400e-b1a9-46fa321cf074"
   },
   "outputs": [],
   "source": [
    "\"\"\"\n",
    "Enable CUDA if the GPU is available\n",
    "\"\"\"\n",
    "if torch.cuda.is_available():\n",
    "  device = torch.device('cuda')\n",
    "else:\n",
    "  device = torch.device('cpu')"
   ]
  },
  {
   "cell_type": "code",
   "execution_count": 3,
   "id": "b11bc436-585b-45c0-8991-c4b3ffeeebe4",
   "metadata": {
    "colab": {
     "base_uri": "https://localhost:8080/",
     "height": 805
    },
    "id": "b11bc436-585b-45c0-8991-c4b3ffeeebe4",
    "outputId": "8b975b2d-2ddb-4eb9-ec1b-b441d68d09a0"
   },
   "outputs": [
    {
     "name": "stdout",
     "output_type": "stream",
     "text": [
      "Downloading http://fashion-mnist.s3-website.eu-central-1.amazonaws.com/train-images-idx3-ubyte.gz\n",
      "Downloading http://fashion-mnist.s3-website.eu-central-1.amazonaws.com/train-images-idx3-ubyte.gz to ./data/FashionMNIST/raw/train-images-idx3-ubyte.gz\n"
     ]
    },
    {
     "name": "stderr",
     "output_type": "stream",
     "text": [
      "100%|██████████| 26.4M/26.4M [00:02<00:00, 12.5MB/s]\n"
     ]
    },
    {
     "name": "stdout",
     "output_type": "stream",
     "text": [
      "Extracting ./data/FashionMNIST/raw/train-images-idx3-ubyte.gz to ./data/FashionMNIST/raw\n",
      "\n",
      "Downloading http://fashion-mnist.s3-website.eu-central-1.amazonaws.com/train-labels-idx1-ubyte.gz\n",
      "Downloading http://fashion-mnist.s3-website.eu-central-1.amazonaws.com/train-labels-idx1-ubyte.gz to ./data/FashionMNIST/raw/train-labels-idx1-ubyte.gz\n"
     ]
    },
    {
     "name": "stderr",
     "output_type": "stream",
     "text": [
      "100%|██████████| 29.5k/29.5k [00:00<00:00, 197kB/s]\n"
     ]
    },
    {
     "name": "stdout",
     "output_type": "stream",
     "text": [
      "Extracting ./data/FashionMNIST/raw/train-labels-idx1-ubyte.gz to ./data/FashionMNIST/raw\n",
      "\n",
      "Downloading http://fashion-mnist.s3-website.eu-central-1.amazonaws.com/t10k-images-idx3-ubyte.gz\n",
      "Downloading http://fashion-mnist.s3-website.eu-central-1.amazonaws.com/t10k-images-idx3-ubyte.gz to ./data/FashionMNIST/raw/t10k-images-idx3-ubyte.gz\n"
     ]
    },
    {
     "name": "stderr",
     "output_type": "stream",
     "text": [
      "100%|██████████| 4.42M/4.42M [00:01<00:00, 3.74MB/s]\n"
     ]
    },
    {
     "name": "stdout",
     "output_type": "stream",
     "text": [
      "Extracting ./data/FashionMNIST/raw/t10k-images-idx3-ubyte.gz to ./data/FashionMNIST/raw\n",
      "\n",
      "Downloading http://fashion-mnist.s3-website.eu-central-1.amazonaws.com/t10k-labels-idx1-ubyte.gz\n",
      "Downloading http://fashion-mnist.s3-website.eu-central-1.amazonaws.com/t10k-labels-idx1-ubyte.gz to ./data/FashionMNIST/raw/t10k-labels-idx1-ubyte.gz\n"
     ]
    },
    {
     "name": "stderr",
     "output_type": "stream",
     "text": [
      "100%|██████████| 5.15k/5.15k [00:00<00:00, 15.8MB/s]\n"
     ]
    },
    {
     "name": "stdout",
     "output_type": "stream",
     "text": [
      "Extracting ./data/FashionMNIST/raw/t10k-labels-idx1-ubyte.gz to ./data/FashionMNIST/raw\n",
      "\n",
      "Ankle Boot\n"
     ]
    },
    {
     "data": {
      "image/png": "[encoded data removed]",
      "text/plain": [
       "<Figure size 640x480 with 1 Axes>"
      ]
     },
     "metadata": {},
     "output_type": "display_data"
    }
   ],
   "source": [
    "\"\"\"\n",
    "Define the dataloader for the Fashion MNIST dataset.\n",
    "\"\"\"\n",
    "train_set = torchvision.datasets.FashionMNIST(\"./data\", download=True, transform=\n",
    "                                                transforms.Compose([transforms.ToTensor()]))\n",
    "test_set = torchvision.datasets.FashionMNIST(\"./data\", download=True, train=False, transform=\n",
    "                                               transforms.Compose([transforms.ToTensor()]))\n",
    "train_loader = torch.utils.data.DataLoader(train_set,\n",
    "                                           batch_size=100)\n",
    "test_loader = torch.utils.data.DataLoader(test_set,\n",
    "                                          batch_size=100)\n",
    "def output_label(label):\n",
    "    output_mapping = {\n",
    "                 0: \"T-shirt/Top\",\n",
    "                 1: \"Trouser\",\n",
    "                 2: \"Pullover\",\n",
    "                 3: \"Dress\",\n",
    "                 4: \"Coat\",\n",
    "                 5: \"Sandal\",\n",
    "                 6: \"Shirt\",\n",
    "                 7: \"Sneaker\",\n",
    "                 8: \"Bag\",\n",
    "                 9: \"Ankle Boot\"\n",
    "                 }\n",
    "    input = (label.item() if type(label) == torch.Tensor else label)\n",
    "    return output_mapping[input]\n",
    "image, label = next(iter(train_set))\n",
    "plt.imshow(image.squeeze(), cmap=\"gray\")\n",
    "print(output_label(label))"
   ]
  },
  {
   "cell_type": "code",
   "execution_count": null,
   "id": "41e71014-1411-457a-8f97-7392c7bf30ab",
   "metadata": {
    "id": "41e71014-1411-457a-8f97-7392c7bf30ab"
   },
   "outputs": [],
   "source": [
    "\"\"\"\n",
    "A Convolutional Variational Autoencoder\n",
    "\"\"\"\n",
    "class VAE(nn.Module):\n",
    "    def __init__(self):\n",
    "        super(VAE, self).__init__()\n",
    "        self.encoder = nn.Sequential(\n",
    "            nn.Conv2d(1, 32, 3, stride=2, padding=1),  # 14x14\n",
    "            nn.ReLU(),\n",
    "            nn.Conv2d(32, 64, 3, stride=2, padding=1),  # 7x7\n",
    "            nn.ReLU(),\n",
    "            nn.Conv2d(64, 128, 3, stride=1, padding=1),  # 7x7\n",
    "            nn.ReLU(),\n",
    "            nn.Flatten()\n",
    "        )\n",
    "\n",
    "        # Latent space\n",
    "        self.fc_mu = nn.Linear(128 * 7 * 7, 128)\n",
    "        self.fc_var = nn.Linear(128 * 7 * 7, 128)\n",
    "\n",
    "        self.decoder_input = nn.Linear(128, 128 * 7 * 7)\n",
    "        self.decoder = nn.Sequential(\n",
    "            nn.Unflatten(1, (128, 7, 7)),\n",
    "            nn.ConvTranspose2d(128, 64, 3, stride=1, padding=1),  # 7x7\n",
    "            nn.ReLU(),\n",
    "            nn.ConvTranspose2d(64, 32, 4, stride=2, padding=1),  # 14x14\n",
    "            nn.ReLU(),\n",
    "            nn.ConvTranspose2d(32, 1, 4, stride=2, padding=1),  # 28x28\n",
    "            nn.Sigmoid()\n",
    "        )\n",
    "\n",
    "    def reparameterize(self, mu, logvar):\n",
    "        std = torch.exp(0.5 * logvar)\n",
    "        eps = torch.randn_like(std)\n",
    "        return mu + eps * std\n",
    "\n",
    "    def forward(self, x):\n",
    "        x = self.encoder(x)\n",
    "        mu = self.fc_mu(x)\n",
    "        logvar = self.fc_var(x)\n",
    "\n",
    "        z = self.reparameterize(mu, logvar)\n",
    "        x = self.decoder_input(z)\n",
    "        x = self.decoder(x)\n",
    "\n",
    "        return x, mu, logvar"
   ]
  },
  {
   "cell_type": "code",
   "execution_count": null,
   "id": "6cdf6b8b-bea6-466f-a6d1-9da6590eba11",
   "metadata": {
    "colab": {
     "base_uri": "https://localhost:8080/"
    },
    "id": "6cdf6b8b-bea6-466f-a6d1-9da6590eba11",
    "outputId": "c73cde65-af58-4e6e-c9d6-b8eab1ea272a"
   },
   "outputs": [
    {
     "name": "stdout",
     "output_type": "stream",
     "text": [
      "Epoch 1/20, Average loss: 281.2462\n",
      "Epoch 2/20, Average loss: 250.7884\n",
      "Epoch 3/20, Average loss: 246.2694\n",
      "Epoch 4/20, Average loss: 244.1938\n",
      "Epoch 5/20, Average loss: 242.8322\n",
      "Epoch 6/20, Average loss: 241.9799\n",
      "Epoch 7/20, Average loss: 241.2454\n",
      "Epoch 8/20, Average loss: 240.6985\n",
      "Epoch 9/20, Average loss: 240.2775\n",
      "Epoch 10/20, Average loss: 239.9384\n",
      "Epoch 11/20, Average loss: 239.5798\n",
      "Epoch 12/20, Average loss: 239.3557\n",
      "Epoch 13/20, Average loss: 239.1130\n",
      "Epoch 14/20, Average loss: 238.8453\n",
      "Epoch 15/20, Average loss: 238.6823\n",
      "Epoch 16/20, Average loss: 238.5202\n",
      "Epoch 17/20, Average loss: 238.3435\n",
      "Epoch 18/20, Average loss: 238.1824\n",
      "Epoch 19/20, Average loss: 238.0774\n",
      "Epoch 20/20, Average loss: 237.9198\n"
     ]
    }
   ],
   "source": [
    "\"\"\"\n",
    "TRAINING LOOP\n",
    "\"\"\"\n",
    "\n",
    "\"\"\"\n",
    "Initialize Hyperparameters\n",
    "\"\"\"\n",
    "batch_size = 128\n",
    "learning_rate = 1e-3\n",
    "num_epochs = 20\n",
    "\n",
    "\"\"\"\n",
    "Initialize the network and the Adam optimizer\n",
    "\"\"\"\n",
    "net = VAE().to(device)\n",
    "optimizer = torch.optim.Adam(net.parameters(), lr=learning_rate)\n",
    "\n",
    "\n",
    "\"\"\"\n",
    "Training the network for a given number of epochs\n",
    "\"\"\"\n",
    "for epoch in range(num_epochs):\n",
    "    net.train()\n",
    "    train_loss = 0\n",
    "    for batch_idx, (data, _) in enumerate(train_loader):\n",
    "        data = data.to(device)\n",
    "        optimizer.zero_grad()\n",
    "\n",
    "        recon_batch, mu, logvar = net(data)\n",
    "\n",
    "        recon_loss = F.binary_cross_entropy(recon_batch, data, reduction='sum')\n",
    "        kl_loss = -0.5 * torch.sum(1 + logvar - mu.pow(2) - logvar.exp())\n",
    "        loss = recon_loss + kl_loss\n",
    "\n",
    "        loss.backward()\n",
    "        optimizer.step()\n",
    "\n",
    "        train_loss += loss.item()\n",
    "\n",
    "    avg_loss = train_loss / len(train_loader.dataset)\n",
    "    print(f'Epoch {epoch+1}/{num_epochs}, Average loss: {avg_loss:.4f}')\n"
   ]
  },
  {
   "cell_type": "code",
   "execution_count": null,
   "id": "6114c27c-b1b4-4e9b-b7a7-49beb3dde829",
   "metadata": {
    "colab": {
     "base_uri": "https://localhost:8080/",
     "height": 433
    },
    "id": "6114c27c-b1b4-4e9b-b7a7-49beb3dde829",
    "outputId": "a40a41b0-e114-438d-d1d1-0923938b4c49"
   },
   "outputs": [
    {
     "data": {
      "image/png": "[encoded data removed]",
      "text/plain": [
       "<Figure size 640x480 with 9 Axes>"
      ]
     },
     "metadata": {},
     "output_type": "display_data"
    }
   ],
   "source": [
    "\n",
    "\"\"\"\n",
    "VISUALIZE OUTPUT\n",
    "\n",
    "The following part takes two images from test loader to feed into the VAE.\n",
    "Both the original image and generated image(s) from the distribution are shown.\n",
    "\"\"\"\n",
    "\n",
    "import matplotlib.pyplot as plt\n",
    "import numpy as np\n",
    "\n",
    "net.eval()\n",
    "with torch.no_grad():\n",
    "    imgs, _ = list(test_loader)[0]\n",
    "    imgs = imgs.to(device)\n",
    "    fig, ax = plt.subplots(3,3)\n",
    "    ax = ax.reshape(-1)\n",
    "    for i in range(3):\n",
    "      for j in range(3):\n",
    "        if j == 0:\n",
    "          # input image\n",
    "          img = np.transpose(imgs[i].cpu().numpy(), [1,2,0])\n",
    "          ax[i*3+j].imshow(np.squeeze(img), cmap = 'gray')\n",
    "        else:\n",
    "          # vae generation results\n",
    "          out, mu, logVAR = net(imgs)\n",
    "          outimg = np.transpose(out[i].cpu().numpy(), [1,2,0])\n",
    "          ax[i*3+j].imshow(np.squeeze(outimg), cmap = 'gray')\n",
    "    plt.show()\n"
   ]
  },
  {
   "cell_type": "markdown",
   "id": "iJfoi9of9qhd",
   "metadata": {
    "id": "iJfoi9of9qhd"
   },
   "source": [
    "### Generative Adversarial Network (GAN)"
   ]
  },
  {
   "cell_type": "code",
   "execution_count": 4,
   "id": "dd31660c-d2f8-43ed-b502-c2ba6a313779",
   "metadata": {
    "id": "dd31660c-d2f8-43ed-b502-c2ba6a313779"
   },
   "outputs": [],
   "source": [
    "class Generator(nn.Module):\n",
    "    def __init__(self, latent_dim=100):\n",
    "        super(Generator, self).__init__()\n",
    "        self.main = nn.Sequential(\n",
    "            nn.Linear(latent_dim, 256 * 7 * 7),\n",
    "            nn.ReLU(),\n",
    "            nn.Unflatten(1, (256, 7, 7)),\n",
    "\n",
    "            nn.ConvTranspose2d(256, 128, 4, stride=2, padding=1),\n",
    "            nn.BatchNorm2d(128),\n",
    "            nn.ReLU(),\n",
    "\n",
    "            nn.ConvTranspose2d(128, 64, 4, stride=2, padding=1),\n",
    "            nn.BatchNorm2d(64),\n",
    "            nn.ReLU(),\n",
    "\n",
    "            nn.Conv2d(64, 64, 3, padding=1),\n",
    "            nn.BatchNorm2d(64),\n",
    "            nn.ReLU(),\n",
    "\n",
    "            nn.Conv2d(64, 1, 3, padding=1),\n",
    "            nn.Tanh()\n",
    "        )\n",
    "    def forward(self, x):\n",
    "        return self.main(x)\n",
    "\n",
    "class Discriminator(nn.Module):\n",
    "    def __init__(self):\n",
    "        super(Discriminator, self).__init__()\n",
    "        self.main = nn.Sequential(\n",
    "            nn.utils.spectral_norm(nn.Conv2d(1, 64, 4, stride=2, padding=1)),\n",
    "            nn.LeakyReLU(0.2),\n",
    "\n",
    "            nn.utils.spectral_norm(nn.Conv2d(64, 128, 4, stride=2, padding=1)),\n",
    "            nn.BatchNorm2d(128),\n",
    "            nn.LeakyReLU(0.2),\n",
    "\n",
    "            nn.utils.spectral_norm(nn.Conv2d(128, 256, 3, stride=1, padding=1)),\n",
    "            nn.BatchNorm2d(256),\n",
    "            nn.LeakyReLU(0.2),\n",
    "\n",
    "            nn.Flatten(),\n",
    "            nn.utils.spectral_norm(nn.Linear(256 * 7 * 7, 1)),\n",
    "            nn.Sigmoid()\n",
    "        )\n",
    "    def forward(self, x):\n",
    "        return self.main(x)"
   ]
  },
  {
   "cell_type": "code",
   "execution_count": 13,
   "id": "d1d2faf1-499a-4f44-9566-1f091882a939",
   "metadata": {
    "colab": {
     "base_uri": "https://localhost:8080/"
    },
    "id": "d1d2faf1-499a-4f44-9566-1f091882a939",
    "outputId": "dfa1f3ac-0925-4897-a7c2-da7dcde7d0c2"
   },
   "outputs": [
    {
     "name": "stdout",
     "output_type": "stream",
     "text": [
      "Epoch [1/25], d_loss: 0.6465, g_loss: 2.5110\n",
      "Epoch [2/25], d_loss: 0.7954, g_loss: 1.8006\n",
      "Epoch [3/25], d_loss: 0.8242, g_loss: 1.6950\n",
      "Epoch [4/25], d_loss: 0.8374, g_loss: 1.6557\n",
      "Epoch [5/25], d_loss: 0.8772, g_loss: 1.6378\n",
      "Epoch [6/25], d_loss: 0.8730, g_loss: 1.6012\n",
      "Epoch [7/25], d_loss: 0.8875, g_loss: 1.5766\n",
      "Epoch [8/25], d_loss: 0.8791, g_loss: 1.5716\n",
      "Epoch [9/25], d_loss: 0.8864, g_loss: 1.5616\n",
      "Epoch [10/25], d_loss: 0.8935, g_loss: 1.5475\n",
      "Epoch [11/25], d_loss: 0.9014, g_loss: 1.5408\n",
      "Epoch [12/25], d_loss: 0.9043, g_loss: 1.5353\n",
      "Epoch [13/25], d_loss: 0.9177, g_loss: 1.5108\n",
      "Epoch [14/25], d_loss: 0.9333, g_loss: 1.4711\n",
      "Epoch [15/25], d_loss: 0.9336, g_loss: 1.4742\n",
      "Epoch [16/25], d_loss: 0.9431, g_loss: 1.4543\n",
      "Epoch [17/25], d_loss: 0.9524, g_loss: 1.4452\n",
      "Epoch [18/25], d_loss: 0.9682, g_loss: 1.4267\n",
      "Epoch [19/25], d_loss: 0.9767, g_loss: 1.4147\n",
      "Epoch [20/25], d_loss: 0.9800, g_loss: 1.4004\n",
      "Epoch [21/25], d_loss: 0.9826, g_loss: 1.3848\n",
      "Epoch [22/25], d_loss: 0.9840, g_loss: 1.3846\n",
      "Epoch [23/25], d_loss: 0.9965, g_loss: 1.3759\n",
      "Epoch [24/25], d_loss: 0.9914, g_loss: 1.3632\n",
      "Epoch [25/25], d_loss: 0.9926, g_loss: 1.3611\n"
     ]
    }
   ],
   "source": [
    "\"\"\"\n",
    "TRAINING LOOP\n",
    "\"\"\"\n",
    "\n",
    "\"\"\"\n",
    "Initialize Hyperparameters\n",
    "\"\"\"\n",
    "lr = 0.0002\n",
    "num_epochs = 25\n",
    "\n",
    "\"\"\"\n",
    "Initialize the network and the Adam optimizer\n",
    "\"\"\"\n",
    "latent_dim = 100\n",
    "generator = Generator(latent_dim).to(device)\n",
    "discriminator = Discriminator().to(device)\n",
    "\n",
    "g_optimizer = torch.optim.Adam(generator.parameters(), lr=lr, betas=(0.5, 0.95))\n",
    "d_optimizer = torch.optim.Adam(discriminator.parameters(), lr=lr, betas=(0.5, 0.95))\n",
    "\n",
    "criterion = nn.BCELoss()\n",
    "\n",
    "\"\"\"\n",
    "Training loop\n",
    "\"\"\"\n",
    "for epoch in range(num_epochs):\n",
    "    g_losses = []\n",
    "    d_losses = []\n",
    "\n",
    "    for batch_idx, (real_images, _) in enumerate(train_loader):\n",
    "        batch_size = real_images.size(0)\n",
    "        real_images = real_images.to(device)\n",
    "        real_images = torch.clamp(real_images + 0.05 * torch.randn_like(real_images), 0, 1)\n",
    "\n",
    "        # Train Discriminator\n",
    "        d_optimizer.zero_grad()\n",
    "        label_real = torch.ones(batch_size, 1).to(device)\n",
    "        label_fake = torch.zeros(batch_size, 1).to(device)\n",
    "\n",
    "        output_real = discriminator(real_images)\n",
    "        d_loss_real = criterion(output_real, label_real)\n",
    "\n",
    "        noise = torch.randn(batch_size, latent_dim).to(device)\n",
    "        fake_images = generator(noise)\n",
    "        output_fake = discriminator(fake_images.detach())\n",
    "        d_loss_fake = criterion(output_fake, label_fake)\n",
    "\n",
    "        d_loss = d_loss_real + d_loss_fake\n",
    "        d_loss.backward()\n",
    "        torch.nn.utils.clip_grad_norm_(discriminator.parameters(), max_norm=1.0)\n",
    "        d_optimizer.step()\n",
    "\n",
    "        # Train Generator\n",
    "        g_optimizer.zero_grad()\n",
    "        output_fake = discriminator(fake_images)\n",
    "        g_loss = criterion(output_fake, label_real)\n",
    "\n",
    "        g_loss.backward()\n",
    "        torch.nn.utils.clip_grad_norm_(generator.parameters(), max_norm=1.0)\n",
    "        g_optimizer.step()\n",
    "\n",
    "        g_losses.append(g_loss.item())\n",
    "        d_losses.append(d_loss.item())\n",
    "\n",
    "    print(f'Epoch [{epoch+1}/{num_epochs}], d_loss: {np.mean(d_losses):.4f}, g_loss: {np.mean(g_losses):.4f}')\n",
    "\n",
    "    if (epoch + 1) % 5 == 0:\n",
    "        fake = generator(torch.randn(9, latent_dim).to(device))\n",
    "\n",
    "if torch.cuda.is_available():\n",
    "  torch.cuda.empty_cache()"
   ]
  },
  {
   "cell_type": "code",
   "execution_count": 20,
   "id": "YLvZqzoT-E1Y",
   "metadata": {
    "colab": {
     "base_uri": "https://localhost:8080/",
     "height": 451
    },
    "id": "YLvZqzoT-E1Y",
    "outputId": "14ffad50-8fbc-48a1-92ed-7655d8a40f67"
   },
   "outputs": [
    {
     "name": "stdout",
     "output_type": "stream",
     "text": [
      "24\n"
     ]
    },
    {
     "data": {
      "image/png": "[encoded data removed]",
      "text/plain": [
       "<Figure size 640x480 with 9 Axes>"
      ]
     },
     "metadata": {},
     "output_type": "display_data"
    }
   ],
   "source": [
    "\"\"\"\n",
    "VISUALIZE OUTPUT\n",
    "\"\"\"\n",
    "print(epoch)\n",
    "import matplotlib.pyplot as plt\n",
    "fig, ax = plt.subplots(3,3)\n",
    "ax = ax.reshape(-1)\n",
    "for i in range(9):\n",
    "  ax[i].imshow(fake[i,0].cpu().data.numpy(), cmap = 'gray')\n",
    "plt.show()"
   ]
  }
 ],
 "metadata": {
  "accelerator": "GPU",
  "colab": {
   "gpuType": "T4",
   "provenance": []
  },
  "kernelspec": {
   "display_name": "Python 3 (ipykernel)",
   "language": "python",
   "name": "python3"
  },
  "language_info": {
   "codemirror_mode": {
    "name": "ipython",
    "version": 3
   },
   "file_extension": ".py",
   "mimetype": "text/x-python",
   "name": "python",
   "nbconvert_exporter": "python",
   "pygments_lexer": "ipython3",
   "version": "3.9.13"
  }
 },
 "nbformat": 4,
 "nbformat_minor": 5
}
